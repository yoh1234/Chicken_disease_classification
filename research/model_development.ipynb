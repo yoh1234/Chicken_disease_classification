{
 "cells": [
  {
   "cell_type": "code",
   "execution_count": 1,
   "metadata": {},
   "outputs": [],
   "source": [
    "import os"
   ]
  },
  {
   "cell_type": "code",
   "execution_count": 2,
   "metadata": {},
   "outputs": [
    {
     "data": {
      "text/plain": [
       "'c:\\\\Users\\\\ml project\\\\Chicken_disease_classification\\\\research'"
      ]
     },
     "execution_count": 2,
     "metadata": {},
     "output_type": "execute_result"
    }
   ],
   "source": [
    "%pwd"
   ]
  },
  {
   "cell_type": "code",
   "execution_count": 3,
   "metadata": {},
   "outputs": [],
   "source": [
    "os.chdir(\"../\")"
   ]
  },
  {
   "cell_type": "code",
   "execution_count": 11,
   "metadata": {},
   "outputs": [],
   "source": [
    "from dataclasses import dataclass\n",
    "from pathlib import Path\n",
    "import os\n",
    "\n",
    "@dataclass(frozen=True)\n",
    "class BaseModelConfig:\n",
    "    root_dir: Path = os.path.join(\"artifacts\", \"cnn_model\")\n",
    "    base_model_path: Path = os.path.join(\"artifacts\", \"cnn_model\", \"base_model.h5\")\n",
    "    updated_model_path: Path = os.path.join(\"artifacts\", \"cnn_model\", \"transfered_cnn_model.h5\")\n",
    "    # Hyperparameters\n",
    "    image_size: list = (224, 224, 3)\n",
    "    learning_rate: float = 0.01\n",
    "    include_top: bool = False\n",
    "    weights: str = \"imagenet\"\n",
    "    classes: int = \"5\"\n",
    "\n",
    "\n",
    "    \n"
   ]
  },
  {
   "cell_type": "code",
   "execution_count": 20,
   "metadata": {},
   "outputs": [],
   "source": [
    "import tensorflow as tf\n",
    "from tensorflow.keras import layers, models\n",
    "from tensorflow.keras.applications.vgg16 import VGG16\n",
    "\n",
    "class PrepareBaseCnnModel:\n",
    "    def __init__(self):\n",
    "        self.basemodel_config = BaseModelConfig()\n",
    "    \n",
    "    def save_model(self, path: Path, model: tf.keras.Model):\n",
    "        model.save(path)\n",
    "    \n",
    "    def prepare_full_cnn_model(self, freeze_all: bool):\n",
    "\n",
    "        self.basemodel = VGG16(\n",
    "            input_shape = self.basemodel_config.image_size,\n",
    "            weights=self.basemodel_config.weights,\n",
    "            include_top=self.basemodel_config.include_top\n",
    "        )\n",
    "        if freeze_all:\n",
    "            self.basemodel.trainable = False\n",
    "\n",
    "        flatten_layer = layers.Flatten()\n",
    "        dense_layer_1 = layers.Dense(50, activation = 'relu')\n",
    "        dense_layer_2 = layers.Dense(20, activation = 'relu')\n",
    "        prediction_layer = layers.Dense(5, activation = 'softmax')\n",
    "\n",
    "        full_model = models.Sequential([\n",
    "            self.basemodel,\n",
    "            flatten_layer,\n",
    "            dense_layer_1,\n",
    "            dense_layer_2,\n",
    "            prediction_layer\n",
    "        ])\n",
    "        self.save_model(path=self.basemodel_config.updated_model_path, model=full_model)\n",
    "\n",
    "\n",
    "    \n",
    "    \n"
   ]
  },
  {
   "cell_type": "code",
   "execution_count": 21,
   "metadata": {},
   "outputs": [
    {
     "name": "stdout",
     "output_type": "stream",
     "text": [
      "WARNING:tensorflow:Compiled the loaded model, but the compiled metrics have yet to be built. `model.compile_metrics` will be empty until you train or evaluate the model.\n"
     ]
    },
    {
     "name": "stderr",
     "output_type": "stream",
     "text": [
      "c:\\Users\\ml project\\Chicken_disease_classification\\.conda\\lib\\site-packages\\keras\\src\\engine\\training.py:3000: UserWarning: You are saving your model as an HDF5 file via `model.save()`. This file format is considered legacy. We recommend using instead the native Keras format, e.g. `model.save('my_model.keras')`.\n",
      "  saving_api.save_model(\n"
     ]
    }
   ],
   "source": [
    "try:\n",
    "    CNN_model = PrepareBaseCnnModel()\n",
    "    CNN_model.prepare_full_cnn_model(freeze_all=True)\n",
    "except Exception as e:\n",
    "    raise e"
   ]
  }
 ],
 "metadata": {
  "kernelspec": {
   "display_name": "Python 3",
   "language": "python",
   "name": "python3"
  },
  "language_info": {
   "codemirror_mode": {
    "name": "ipython",
    "version": 3
   },
   "file_extension": ".py",
   "mimetype": "text/x-python",
   "name": "python",
   "nbconvert_exporter": "python",
   "pygments_lexer": "ipython3",
   "version": "3.8.19"
  }
 },
 "nbformat": 4,
 "nbformat_minor": 2
}
