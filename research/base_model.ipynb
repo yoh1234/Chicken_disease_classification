{
 "cells": [
  {
   "cell_type": "code",
   "execution_count": 1,
   "metadata": {},
   "outputs": [],
   "source": [
    "import os"
   ]
  },
  {
   "cell_type": "code",
   "execution_count": 3,
   "metadata": {},
   "outputs": [
    {
     "data": {
      "text/plain": [
       "'c:\\\\Users\\\\Chicken_disease_classification'"
      ]
     },
     "execution_count": 3,
     "metadata": {},
     "output_type": "execute_result"
    }
   ],
   "source": [
    "%pwd"
   ]
  },
  {
   "cell_type": "code",
   "execution_count": 2,
   "metadata": {},
   "outputs": [],
   "source": [
    "os.chdir(\"../\")"
   ]
  },
  {
   "cell_type": "code",
   "execution_count": 4,
   "metadata": {},
   "outputs": [],
   "source": [
    "from dataclasses import dataclass\n",
    "from pathlib import Path\n",
    "import os\n",
    "\n",
    "@dataclass(frozen=True)\n",
    "class BaseModelConfig:\n",
    "    root_dir: Path = os.path.join(\"artifacts\", \"prepare_base_model\")\n",
    "    base_model_path: Path = os.path.join(\"artifacts\", \"prepare_base_model\", \"base_model.h5\")\n",
    "    updated_base_model_path: Path = os.path.join(\"artifacts\", \"prepare_base_model\", \"base_model_updated.h5\")\n",
    "    # Hyperparameters\n",
    "    image_size: list = (224, 224, 3)\n",
    "    learning_rate: float = 0.01\n",
    "    include_top: bool = False\n",
    "    weights: str = \"imagenet\"\n",
    "    classes: int = \"5\"\n",
    "\n",
    "\n",
    "    \n"
   ]
  },
  {
   "cell_type": "code",
   "execution_count": 5,
   "metadata": {},
   "outputs": [],
   "source": [
    "import tensorflow as tf\n",
    "from tensorflow.keras import layers, models\n",
    "from tensorflow.keras.applications.vgg16 import VGG16\n",
    "\n",
    "class PrepareBaseModel:\n",
    "    def __init__(self):\n",
    "        self.basemodel_config = BaseModelConfig()\n",
    "    \n",
    "    def save_model(path: Path, model: tf.keras.Model):\n",
    "        model.save(path)\n",
    "    \n",
    "    def prepare_full_model(self, freeze_all):\n",
    "\n",
    "        self.basemodel = VGG16(\n",
    "            imput_shape = self.basemodel_config.image_size,\n",
    "            weights=self.basemodel_config.weights,\n",
    "            include_top=self.basemodel_config.include_top\n",
    "        )\n",
    "        if freeze_all:\n",
    "            self.base_model.trainable = False\n",
    "\n",
    "        flatten_layer = layers.Flatten()\n",
    "        dense_layer_1 = layers.Dense(50, activation = 'relu')\n",
    "        dense_layer_2 = layers.Dense(20, activation = 'relu')\n",
    "        prediction_layer = layers.Dense(5, activation = 'softmax')\n",
    "\n",
    "        full_model = models.Sequential([\n",
    "            self.base_model,\n",
    "            flatten_layer,\n",
    "            dense_layer_1,\n",
    "            dense_layer_2,\n",
    "            prediction_layer\n",
    "        ])\n",
    "\n",
    "        self.save_model(path=self.basemodel_config.base_model_path, model=full_model)\n",
    "\n",
    "\n",
    "    \n",
    "    \n"
   ]
  }
 ],
 "metadata": {
  "kernelspec": {
   "display_name": "Python 3",
   "language": "python",
   "name": "python3"
  },
  "language_info": {
   "codemirror_mode": {
    "name": "ipython",
    "version": 3
   },
   "file_extension": ".py",
   "mimetype": "text/x-python",
   "name": "python",
   "nbconvert_exporter": "python",
   "pygments_lexer": "ipython3",
   "version": "3.8.19"
  }
 },
 "nbformat": 4,
 "nbformat_minor": 2
}
